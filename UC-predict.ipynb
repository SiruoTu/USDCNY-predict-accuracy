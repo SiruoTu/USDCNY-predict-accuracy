{
 "cells": [
  {
   "cell_type": "code",
   "execution_count": 5,
   "metadata": {},
   "outputs": [],
   "source": [
    "import pandas as pd\n",
    "\n",
    "Sheet1 = pd.read_excel(\"人民币汇率预测表.xlsx\",sheet_name=\"Sheet1\")\n",
    "Sheet2 = pd.read_excel(\"人民币汇率预测表.xlsx\",sheet_name=\"Sheet2\")\n",
    "\n",
    "UCZ23 = pd.read_excel(\"UCZ23.SG.xlsx\")\n",
    "UCZ23['日期'] = pd.to_datetime(UCZ23['日期'])"
   ]
  },
  {
   "cell_type": "code",
   "execution_count": 9,
   "metadata": {},
   "outputs": [],
   "source": [
    "Sheet2['日期'] = Sheet2['日期'].astype(str)\n",
    "Sheet2['收盘时间'] = Sheet2['收盘时间'].astype(str)\n",
    "Sheet2['datetime'] = pd.to_datetime(Sheet2['日期'] + ' ' + Sheet2['收盘时间'])\n",
    "\n",
    "Sheet3 = pd.merge_asof(Sheet2, UCZ23, left_on='datetime', right_on='日期', direction='nearest')\n",
    "Sheet3.to_csv('USDCNY-UC.csv',index=None,encoding=\"gbk\")"
   ]
  }
 ],
 "metadata": {
  "kernelspec": {
   "display_name": "base",
   "language": "python",
   "name": "python3"
  },
  "language_info": {
   "codemirror_mode": {
    "name": "ipython",
    "version": 3
   },
   "file_extension": ".py",
   "mimetype": "text/x-python",
   "name": "python",
   "nbconvert_exporter": "python",
   "pygments_lexer": "ipython3",
   "version": "3.11.4"
  },
  "orig_nbformat": 4
 },
 "nbformat": 4,
 "nbformat_minor": 2
}
