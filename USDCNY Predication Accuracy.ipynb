{
 "cells": [
  {
   "cell_type": "code",
   "execution_count": 1,
   "metadata": {},
   "outputs": [
    {
     "data": {
      "text/plain": [
       "0.59375"
      ]
     },
     "execution_count": 1,
     "metadata": {},
     "output_type": "execute_result"
    }
   ],
   "source": [
    "import pandas as pd\n",
    "\n",
    "Sheet1 = pd.read_excel(\"人民币汇率预测准确度.xlsx\",sheet_name=\"Sheet1\").dropna()\n",
    "Sheet2 = pd.read_excel(\"人民币汇率预测准确度.xlsx\",sheet_name=\"Sheet2\").dropna()\n",
    "\n",
    "pre_accuracy = (Sheet1['准确度'].sum() + Sheet2['准确度'].sum())/(Sheet1.shape[0] + Sheet2.shape[0])\n",
    "pre_accuracy"
   ]
  },
  {
   "cell_type": "code",
   "execution_count": 2,
   "metadata": {},
   "outputs": [
    {
     "data": {
      "text/plain": [
       "0.5333333333333333"
      ]
     },
     "execution_count": 2,
     "metadata": {},
     "output_type": "execute_result"
    }
   ],
   "source": [
    "pre_accuracy2 = Sheet2['准确度'].sum()/Sheet2.shape[0]\n",
    "pre_accuracy2"
   ]
  },
  {
   "cell_type": "code",
   "execution_count": 53,
   "metadata": {},
   "outputs": [],
   "source": [
    "import os\n",
    "import pandas as pd\n",
    "import datetime\n",
    "\n",
    "# 获取当前工作目录\n",
    "cwd = os.getcwd()\n",
    "\n",
    "# 判断是否存在data_csv文件夹，如果不存在就创建该文件夹\n",
    "if not os.path.exists('data_csv'):\n",
    "    os.makedirs('data_csv')\n",
    "\n",
    "today = str(datetime.date.today())\n",
    "start_date = \"2010-01-01\"\n",
    "end_date = today"
   ]
  },
  {
   "cell_type": "code",
   "execution_count": 22,
   "metadata": {},
   "outputs": [
    {
     "name": "stderr",
     "output_type": "stream",
     "text": [
      "                                              \r"
     ]
    }
   ],
   "source": [
    "import akshare as ak\n",
    "\n",
    "bond_zh_us_rate_df = ak.bond_zh_us_rate(start_date=start_date)\n",
    "CN_Y10_table = bond_zh_us_rate_df.loc[ : ,[\"日期\",\"中国国债收益率10年\"]].dropna()\n",
    "CN_Y2_table = bond_zh_us_rate_df.loc[ : ,[\"日期\",\"中国国债收益率2年\"]].dropna()\n",
    "US_Y10_table = bond_zh_us_rate_df.loc[ : ,[\"日期\",\"美国国债收益率10年\"]].dropna()\n",
    "US_Y2_table = bond_zh_us_rate_df.loc[ : ,[\"日期\",\"美国国债收益率2年\"]].dropna()\n",
    "\n",
    "CN_Y10_table.to_csv(\"data_csv/中国_国债收益率_10年.csv\", index = None, header = True)\n",
    "CN_Y2_table.to_csv(\"data_csv/中国_国债收益率_2年.csv\", index = None, header = True)\n",
    "US_Y10_table.to_csv(\"data_csv/美国_国债收益率_10年.csv\", index = None, header = True)\n",
    "US_Y2_table.to_csv(\"data_csv/美国_国债收益率_2年.csv\", index = None, header = True)"
   ]
  },
  {
   "cell_type": "code",
   "execution_count": 29,
   "metadata": {},
   "outputs": [
    {
     "name": "stderr",
     "output_type": "stream",
     "text": [
      "                                               \r"
     ]
    }
   ],
   "source": [
    "LIBOR_3M_table = ak.rate_interbank(market=\"伦敦银行同业拆借市场\", symbol=\"Libor美元\", indicator=\"3月\")\n",
    "LIBOR_3M_table.to_csv(\"data_csv/LIBOR_美元_3个月.csv\", index = None, header = True)\n",
    "\n",
    "SHIBOR_3M_table = ak.rate_interbank(market=\"上海银行同业拆借市场\", symbol=\"Shibor人民币\", indicator=\"3月\")\n",
    "SHIBOR_3M_table.to_csv(\"data_csv/SHIBOR_3个月.csv\", index = None, header = True)\n",
    "\n",
    "HIBOR_3M_table = ak.rate_interbank(market=\"香港银行同业拆借市场\", symbol=\"Hibor港币\", indicator=\"3月\")\n",
    "HIBOR_3M_table.to_csv(\"data_csv/HIBOR_3个月.csv\", index = None, header = True)"
   ]
  },
  {
   "cell_type": "code",
   "execution_count": 38,
   "metadata": {},
   "outputs": [
    {
     "data": {
      "text/html": [
       "<div>\n",
       "<style scoped>\n",
       "    .dataframe tbody tr th:only-of-type {\n",
       "        vertical-align: middle;\n",
       "    }\n",
       "\n",
       "    .dataframe tbody tr th {\n",
       "        vertical-align: top;\n",
       "    }\n",
       "\n",
       "    .dataframe thead th {\n",
       "        text-align: right;\n",
       "    }\n",
       "</style>\n",
       "<table border=\"1\" class=\"dataframe\">\n",
       "  <thead>\n",
       "    <tr style=\"text-align: right;\">\n",
       "      <th></th>\n",
       "      <th>曲线名称</th>\n",
       "      <th>日期</th>\n",
       "      <th>3月</th>\n",
       "      <th>6月</th>\n",
       "      <th>1年</th>\n",
       "      <th>3年</th>\n",
       "      <th>5年</th>\n",
       "      <th>7年</th>\n",
       "      <th>10年</th>\n",
       "      <th>30年</th>\n",
       "    </tr>\n",
       "  </thead>\n",
       "  <tbody>\n",
       "    <tr>\n",
       "      <th>0</th>\n",
       "      <td>中债国债收益率曲线</td>\n",
       "      <td>2007-01-04</td>\n",
       "      <td>1.980</td>\n",
       "      <td>1.9829</td>\n",
       "      <td>2.0831</td>\n",
       "      <td>2.4178</td>\n",
       "      <td>2.5852</td>\n",
       "      <td>2.8400</td>\n",
       "      <td>3.0239</td>\n",
       "      <td>3.610</td>\n",
       "    </tr>\n",
       "    <tr>\n",
       "      <th>1</th>\n",
       "      <td>中债中短期票据收益率曲线(AAA)</td>\n",
       "      <td>2007-01-04</td>\n",
       "      <td>2.920</td>\n",
       "      <td>3.0967</td>\n",
       "      <td>3.4600</td>\n",
       "      <td>NaN</td>\n",
       "      <td>NaN</td>\n",
       "      <td>NaN</td>\n",
       "      <td>NaN</td>\n",
       "      <td>NaN</td>\n",
       "    </tr>\n",
       "    <tr>\n",
       "      <th>2</th>\n",
       "      <td>中债国债收益率曲线</td>\n",
       "      <td>2007-01-05</td>\n",
       "      <td>1.991</td>\n",
       "      <td>2.0000</td>\n",
       "      <td>2.0849</td>\n",
       "      <td>2.4049</td>\n",
       "      <td>2.5729</td>\n",
       "      <td>2.8224</td>\n",
       "      <td>3.0211</td>\n",
       "      <td>3.600</td>\n",
       "    </tr>\n",
       "    <tr>\n",
       "      <th>3</th>\n",
       "      <td>中债中短期票据收益率曲线(AAA)</td>\n",
       "      <td>2007-01-05</td>\n",
       "      <td>2.900</td>\n",
       "      <td>3.0695</td>\n",
       "      <td>3.4400</td>\n",
       "      <td>NaN</td>\n",
       "      <td>NaN</td>\n",
       "      <td>NaN</td>\n",
       "      <td>NaN</td>\n",
       "      <td>NaN</td>\n",
       "    </tr>\n",
       "    <tr>\n",
       "      <th>4</th>\n",
       "      <td>中债国债收益率曲线</td>\n",
       "      <td>2007-01-08</td>\n",
       "      <td>1.950</td>\n",
       "      <td>2.0030</td>\n",
       "      <td>2.0873</td>\n",
       "      <td>2.4171</td>\n",
       "      <td>2.5716</td>\n",
       "      <td>2.8260</td>\n",
       "      <td>3.0356</td>\n",
       "      <td>3.605</td>\n",
       "    </tr>\n",
       "    <tr>\n",
       "      <th>5</th>\n",
       "      <td>中债中短期票据收益率曲线(AAA)</td>\n",
       "      <td>2007-01-08</td>\n",
       "      <td>2.915</td>\n",
       "      <td>3.1027</td>\n",
       "      <td>3.4600</td>\n",
       "      <td>NaN</td>\n",
       "      <td>NaN</td>\n",
       "      <td>NaN</td>\n",
       "      <td>NaN</td>\n",
       "      <td>NaN</td>\n",
       "    </tr>\n",
       "    <tr>\n",
       "      <th>6</th>\n",
       "      <td>中债国债收益率曲线</td>\n",
       "      <td>2007-01-09</td>\n",
       "      <td>1.950</td>\n",
       "      <td>1.9872</td>\n",
       "      <td>2.0744</td>\n",
       "      <td>2.3985</td>\n",
       "      <td>2.5713</td>\n",
       "      <td>2.8129</td>\n",
       "      <td>3.0231</td>\n",
       "      <td>3.600</td>\n",
       "    </tr>\n",
       "    <tr>\n",
       "      <th>7</th>\n",
       "      <td>中债中短期票据收益率曲线(AAA)</td>\n",
       "      <td>2007-01-09</td>\n",
       "      <td>2.913</td>\n",
       "      <td>3.0748</td>\n",
       "      <td>3.4600</td>\n",
       "      <td>NaN</td>\n",
       "      <td>NaN</td>\n",
       "      <td>NaN</td>\n",
       "      <td>NaN</td>\n",
       "      <td>NaN</td>\n",
       "    </tr>\n",
       "  </tbody>\n",
       "</table>\n",
       "</div>"
      ],
      "text/plain": [
       "                曲线名称          日期     3月      6月      1年      3年      5年  \\\n",
       "0          中债国债收益率曲线  2007-01-04  1.980  1.9829  2.0831  2.4178  2.5852   \n",
       "1  中债中短期票据收益率曲线(AAA)  2007-01-04  2.920  3.0967  3.4600     NaN     NaN   \n",
       "2          中债国债收益率曲线  2007-01-05  1.991  2.0000  2.0849  2.4049  2.5729   \n",
       "3  中债中短期票据收益率曲线(AAA)  2007-01-05  2.900  3.0695  3.4400     NaN     NaN   \n",
       "4          中债国债收益率曲线  2007-01-08  1.950  2.0030  2.0873  2.4171  2.5716   \n",
       "5  中债中短期票据收益率曲线(AAA)  2007-01-08  2.915  3.1027  3.4600     NaN     NaN   \n",
       "6          中债国债收益率曲线  2007-01-09  1.950  1.9872  2.0744  2.3985  2.5713   \n",
       "7  中债中短期票据收益率曲线(AAA)  2007-01-09  2.913  3.0748  3.4600     NaN     NaN   \n",
       "\n",
       "       7年     10年    30年  \n",
       "0  2.8400  3.0239  3.610  \n",
       "1     NaN     NaN    NaN  \n",
       "2  2.8224  3.0211  3.600  \n",
       "3     NaN     NaN    NaN  \n",
       "4  2.8260  3.0356  3.605  \n",
       "5     NaN     NaN    NaN  \n",
       "6  2.8129  3.0231  3.600  \n",
       "7     NaN     NaN    NaN  "
      ]
     },
     "execution_count": 38,
     "metadata": {},
     "output_type": "execute_result"
    }
   ],
   "source": [
    "bond_china_yield_df1 = ak.bond_china_yield(start_date=\"20070101\", end_date=\"20070109\")\n",
    "bond_china_yield_df1"
   ]
  },
  {
   "cell_type": "code",
   "execution_count": 45,
   "metadata": {},
   "outputs": [
    {
     "data": {
      "text/html": [
       "<div>\n",
       "<style scoped>\n",
       "    .dataframe tbody tr th:only-of-type {\n",
       "        vertical-align: middle;\n",
       "    }\n",
       "\n",
       "    .dataframe tbody tr th {\n",
       "        vertical-align: top;\n",
       "    }\n",
       "\n",
       "    .dataframe thead th {\n",
       "        text-align: right;\n",
       "    }\n",
       "</style>\n",
       "<table border=\"1\" class=\"dataframe\">\n",
       "  <thead>\n",
       "    <tr style=\"text-align: right;\">\n",
       "      <th></th>\n",
       "      <th>曲线名称</th>\n",
       "      <th>日期</th>\n",
       "      <th>3月</th>\n",
       "      <th>6月</th>\n",
       "      <th>1年</th>\n",
       "      <th>3年</th>\n",
       "      <th>5年</th>\n",
       "      <th>7年</th>\n",
       "      <th>10年</th>\n",
       "      <th>30年</th>\n",
       "    </tr>\n",
       "  </thead>\n",
       "  <tbody>\n",
       "    <tr>\n",
       "      <th>1</th>\n",
       "      <td>中债国债收益率曲线</td>\n",
       "      <td>2007-01-09</td>\n",
       "      <td>1.950</td>\n",
       "      <td>1.9872</td>\n",
       "      <td>2.0744</td>\n",
       "      <td>2.3985</td>\n",
       "      <td>2.5713</td>\n",
       "      <td>2.8129</td>\n",
       "      <td>3.0231</td>\n",
       "      <td>3.6</td>\n",
       "    </tr>\n",
       "    <tr>\n",
       "      <th>3</th>\n",
       "      <td>中债国债收益率曲线</td>\n",
       "      <td>2007-01-10</td>\n",
       "      <td>1.955</td>\n",
       "      <td>1.9898</td>\n",
       "      <td>2.0759</td>\n",
       "      <td>2.3778</td>\n",
       "      <td>2.5648</td>\n",
       "      <td>2.7882</td>\n",
       "      <td>3.0102</td>\n",
       "      <td>3.6</td>\n",
       "    </tr>\n",
       "    <tr>\n",
       "      <th>5</th>\n",
       "      <td>中债国债收益率曲线</td>\n",
       "      <td>2007-01-11</td>\n",
       "      <td>1.952</td>\n",
       "      <td>1.9729</td>\n",
       "      <td>2.0914</td>\n",
       "      <td>2.3735</td>\n",
       "      <td>2.5548</td>\n",
       "      <td>2.7880</td>\n",
       "      <td>3.0047</td>\n",
       "      <td>3.6</td>\n",
       "    </tr>\n",
       "    <tr>\n",
       "      <th>7</th>\n",
       "      <td>中债国债收益率曲线</td>\n",
       "      <td>2007-01-12</td>\n",
       "      <td>1.958</td>\n",
       "      <td>1.9702</td>\n",
       "      <td>2.0866</td>\n",
       "      <td>2.3864</td>\n",
       "      <td>2.5598</td>\n",
       "      <td>2.8278</td>\n",
       "      <td>3.0202</td>\n",
       "      <td>3.6</td>\n",
       "    </tr>\n",
       "    <tr>\n",
       "      <th>9</th>\n",
       "      <td>中债国债收益率曲线</td>\n",
       "      <td>2007-01-15</td>\n",
       "      <td>1.958</td>\n",
       "      <td>1.9768</td>\n",
       "      <td>2.0762</td>\n",
       "      <td>2.4017</td>\n",
       "      <td>2.6021</td>\n",
       "      <td>2.8135</td>\n",
       "      <td>3.0167</td>\n",
       "      <td>3.6</td>\n",
       "    </tr>\n",
       "    <tr>\n",
       "      <th>10</th>\n",
       "      <td>中债国债收益率曲线</td>\n",
       "      <td>2007-01-16</td>\n",
       "      <td>1.930</td>\n",
       "      <td>1.9500</td>\n",
       "      <td>2.0363</td>\n",
       "      <td>2.3802</td>\n",
       "      <td>2.5879</td>\n",
       "      <td>2.8070</td>\n",
       "      <td>3.0175</td>\n",
       "      <td>3.6</td>\n",
       "    </tr>\n",
       "    <tr>\n",
       "      <th>13</th>\n",
       "      <td>中债国债收益率曲线</td>\n",
       "      <td>2007-01-17</td>\n",
       "      <td>1.935</td>\n",
       "      <td>1.9354</td>\n",
       "      <td>2.0361</td>\n",
       "      <td>2.3868</td>\n",
       "      <td>2.5839</td>\n",
       "      <td>2.8089</td>\n",
       "      <td>3.0176</td>\n",
       "      <td>3.6</td>\n",
       "    </tr>\n",
       "    <tr>\n",
       "      <th>15</th>\n",
       "      <td>中债国债收益率曲线</td>\n",
       "      <td>2007-01-18</td>\n",
       "      <td>1.930</td>\n",
       "      <td>1.9374</td>\n",
       "      <td>2.0466</td>\n",
       "      <td>2.3897</td>\n",
       "      <td>2.5799</td>\n",
       "      <td>2.8207</td>\n",
       "      <td>3.0273</td>\n",
       "      <td>3.6</td>\n",
       "    </tr>\n",
       "    <tr>\n",
       "      <th>17</th>\n",
       "      <td>中债国债收益率曲线</td>\n",
       "      <td>2007-01-19</td>\n",
       "      <td>1.930</td>\n",
       "      <td>1.9295</td>\n",
       "      <td>2.0357</td>\n",
       "      <td>2.3899</td>\n",
       "      <td>2.5860</td>\n",
       "      <td>2.8292</td>\n",
       "      <td>3.0320</td>\n",
       "      <td>3.6</td>\n",
       "    </tr>\n",
       "  </tbody>\n",
       "</table>\n",
       "</div>"
      ],
      "text/plain": [
       "         曲线名称          日期     3月      6月      1年      3年      5年      7年  \\\n",
       "1   中债国债收益率曲线  2007-01-09  1.950  1.9872  2.0744  2.3985  2.5713  2.8129   \n",
       "3   中债国债收益率曲线  2007-01-10  1.955  1.9898  2.0759  2.3778  2.5648  2.7882   \n",
       "5   中债国债收益率曲线  2007-01-11  1.952  1.9729  2.0914  2.3735  2.5548  2.7880   \n",
       "7   中债国债收益率曲线  2007-01-12  1.958  1.9702  2.0866  2.3864  2.5598  2.8278   \n",
       "9   中债国债收益率曲线  2007-01-15  1.958  1.9768  2.0762  2.4017  2.6021  2.8135   \n",
       "10  中债国债收益率曲线  2007-01-16  1.930  1.9500  2.0363  2.3802  2.5879  2.8070   \n",
       "13  中债国债收益率曲线  2007-01-17  1.935  1.9354  2.0361  2.3868  2.5839  2.8089   \n",
       "15  中债国债收益率曲线  2007-01-18  1.930  1.9374  2.0466  2.3897  2.5799  2.8207   \n",
       "17  中债国债收益率曲线  2007-01-19  1.930  1.9295  2.0357  2.3899  2.5860  2.8292   \n",
       "\n",
       "       10年  30年  \n",
       "1   3.0231  3.6  \n",
       "3   3.0102  3.6  \n",
       "5   3.0047  3.6  \n",
       "7   3.0202  3.6  \n",
       "9   3.0167  3.6  \n",
       "10  3.0175  3.6  \n",
       "13  3.0176  3.6  \n",
       "15  3.0273  3.6  \n",
       "17  3.0320  3.6  "
      ]
     },
     "execution_count": 45,
     "metadata": {},
     "output_type": "execute_result"
    }
   ],
   "source": [
    "bond_china_yield_df2 = ak.bond_china_yield(start_date=\"20070109\", end_date=\"20070120\")\n",
    "bond_china_yield_df2 = bond_china_yield_df2[bond_china_yield_df2['曲线名称'] == \"中债国债收益率曲线\"]\n",
    "bond_china_yield_df2"
   ]
  },
  {
   "cell_type": "code",
   "execution_count": 48,
   "metadata": {},
   "outputs": [
    {
     "data": {
      "text/plain": [
       "'20070109'"
      ]
     },
     "execution_count": 48,
     "metadata": {},
     "output_type": "execute_result"
    }
   ],
   "source": [
    "a = datetime.datetime.strptime(\"20070109\", '%Y%m%d')\n",
    "b = datetime.datetime.strptime(\"2007-01-20\", '%Y-%m-%d')\n",
    "a.strftime('%Y%m%d')"
   ]
  },
  {
   "cell_type": "code",
   "execution_count": 55,
   "metadata": {},
   "outputs": [],
   "source": [
    "def get_bond_china_yield_data_akshare(start_date,end_date,kind):\n",
    "    start_date_dt = datetime.datetime.strptime(start_date, '%Y-%m-%d')\n",
    "    end_date_dt = datetime.datetime.strptime(end_date, '%Y-%m-%d')\n",
    "    if (end_date_dt-start_date_dt).days <= 360:\n",
    "        bond_china_yield_df = ak.bond_china_yield(start_date=start_date_dt.strftime('%Y%m%d'), end_date=end_date_dt.strftime('%Y%m%d'))\n",
    "        bond_china_yield_df = bond_china_yield_df[bond_china_yield_df['曲线名称'] == kind]\n",
    "        return bond_china_yield_df\n",
    "    else:\n",
    "        mid_date_dt = start_date_dt + datetime.timedelta(days=360)\n",
    "        bond_china_yield_df = ak.bond_china_yield(start_date=start_date_dt.strftime('%Y%m%d'), end_date=mid_date_dt.strftime('%Y%m%d'))\n",
    "        bond_china_yield_df = bond_china_yield_df[bond_china_yield_df['曲线名称'] == kind]\n",
    "        while (end_date_dt - mid_date_dt).days > 0:\n",
    "            start_date_dt = mid_date_dt + datetime.timedelta(days=1)\n",
    "            mid_date_dt = start_date_dt + datetime.timedelta(days=360)\n",
    "            if (end_date_dt - mid_date_dt).days > 0:\n",
    "                bond_china_yield_df2 = ak.bond_china_yield(start_date=start_date_dt.strftime('%Y%m%d'), end_date=mid_date_dt.strftime('%Y%m%d'))\n",
    "                bond_china_yield_df2 = bond_china_yield_df2[bond_china_yield_df2['曲线名称'] == kind]\n",
    "                bond_china_yield_df = pd.concat([bond_china_yield_df,bond_china_yield_df2])\n",
    "            else:\n",
    "                bond_china_yield_df2 = ak.bond_china_yield(start_date=start_date_dt.strftime('%Y%m%d'), end_date=end_date_dt.strftime('%Y%m%d'))\n",
    "                bond_china_yield_df2 = bond_china_yield_df2[bond_china_yield_df2['曲线名称'] == kind]\n",
    "                bond_china_yield_df = pd.concat([bond_china_yield_df,bond_china_yield_df2])\n",
    "        return bond_china_yield_df\n",
    "\n",
    "bond_china_yield_df = get_bond_china_yield_data_akshare(\"2007-01-01\",end_date,\"中债国债收益率曲线\")\n",
    "bond_china_yield_df.to_csv(\"data_csv/中债国债收益率.csv\", index = None, header = True)"
   ]
  },
  {
   "cell_type": "code",
   "execution_count": 3,
   "metadata": {},
   "outputs": [],
   "source": [
    "CSI300_table = ak.index_zh_a_hist(symbol=\"000300\", period=\"daily\", start_date=start_date, end_date=end_date)\n",
    "SSEC_table = ak.index_zh_a_hist(symbol=\"000001\", period=\"daily\", start_date=start_date, end_date=end_date)\n",
    "SZI_table = ak.index_zh_a_hist(symbol=\"399001\", period=\"daily\", start_date=start_date, end_date=end_date)\n",
    "\n",
    "CSI300_table.to_csv(\"data_csv/沪深300指数.csv\", index = None, header = True)\n",
    "SSEC_table.to_csv(\"data_csv/上证综合指数.csv\", index = None, header = True)\n",
    "SZI_table.to_csv(\"data_csv/深证成份指数.csv\", index = None, header = True)"
   ]
  },
  {
   "cell_type": "code",
   "execution_count": 4,
   "metadata": {},
   "outputs": [
    {
     "data": {
      "text/plain": [
       "'\\nCOMEX_Gold_table = ak.futures_foreign_hist(symbol=\"GC\") # COMEX黄金\\nCOMEX_Copper_table = ak.futures_foreign_hist(symbol=\"HG\") # COMEX铜\\nCOMEX_Silver_table = ak.futures_foreign_hist(symbol=\"SI\") # COMEX白银\\nWTI_Oil_table = ak.futures_foreign_hist(symbol=\"CL\") # NYMEX原油\\n\\nCOMEX_Gold_table.to_csv(\"data_csv/期货_COMEX黄金.csv\", index = None, header = True)\\nCOMEX_Copper_table.to_csv(\"data_csv/期货_COMEX铜.csv\", index = None, header = True)\\nCOMEX_Silver_table.to_csv(\"data_csv/期货_COMEX白银.csv\", index = None, header = True)\\nWTI_Oil_table.to_csv(\"data_csv/期货_NYMEX原油.csv\", index = None, header = True)\\n'"
      ]
     },
     "execution_count": 4,
     "metadata": {},
     "output_type": "execute_result"
    }
   ],
   "source": [
    "'''\n",
    "COMEX_Gold_table = ak.futures_foreign_hist(symbol=\"GC\") # COMEX黄金\n",
    "COMEX_Copper_table = ak.futures_foreign_hist(symbol=\"HG\") # COMEX铜\n",
    "COMEX_Silver_table = ak.futures_foreign_hist(symbol=\"SI\") # COMEX白银\n",
    "WTI_Oil_table = ak.futures_foreign_hist(symbol=\"CL\") # NYMEX原油\n",
    "\n",
    "COMEX_Gold_table.to_csv(\"data_csv/期货_COMEX黄金.csv\", index = None, header = True)\n",
    "COMEX_Copper_table.to_csv(\"data_csv/期货_COMEX铜.csv\", index = None, header = True)\n",
    "COMEX_Silver_table.to_csv(\"data_csv/期货_COMEX白银.csv\", index = None, header = True)\n",
    "WTI_Oil_table.to_csv(\"data_csv/期货_NYMEX原油.csv\", index = None, header = True)\n",
    "'''"
   ]
  },
  {
   "cell_type": "code",
   "execution_count": 5,
   "metadata": {},
   "outputs": [
    {
     "data": {
      "text/plain": [
       "'\\nLME_Gold_table = ak.futures_foreign_hist(symbol=\"XAU\") # 伦敦金\\nLME_Silver_table = ak.futures_foreign_hist(symbol=\"XAG\") # 伦敦银\\nLME_Copper_table = ak.futures_foreign_hist(symbol=\"CAD\") # LME铜3个月\\nBrent_Oil_table = ak.futures_foreign_hist(symbol=\"OIL\") # 布伦特原油\\n\\nLME_Gold_table.to_csv(\"data_csv/现货_伦敦金.csv\", index = None, header = True)\\nLME_Silver_table.to_csv(\"data_csv/现货_伦敦银.csv\", index = None, header = True)\\nLME_Copper_table.to_csv(\"data_csv/期货_LME铜3个月.csv\", index = None, header = True)\\nBrent_Oil_table.to_csv(\"data_csv/期货_布伦特原油.csv\", index = None, header = True)\\n'"
      ]
     },
     "execution_count": 5,
     "metadata": {},
     "output_type": "execute_result"
    }
   ],
   "source": [
    "'''\n",
    "LME_Gold_table = ak.futures_foreign_hist(symbol=\"XAU\") # 伦敦金\n",
    "LME_Silver_table = ak.futures_foreign_hist(symbol=\"XAG\") # 伦敦银\n",
    "LME_Copper_table = ak.futures_foreign_hist(symbol=\"CAD\") # LME铜3个月\n",
    "Brent_Oil_table = ak.futures_foreign_hist(symbol=\"OIL\") # 布伦特原油\n",
    "\n",
    "LME_Gold_table.to_csv(\"data_csv/现货_伦敦金.csv\", index = None, header = True)\n",
    "LME_Silver_table.to_csv(\"data_csv/现货_伦敦银.csv\", index = None, header = True)\n",
    "LME_Copper_table.to_csv(\"data_csv/期货_LME铜3个月.csv\", index = None, header = True)\n",
    "Brent_Oil_table.to_csv(\"data_csv/期货_布伦特原油.csv\", index = None, header = True)\n",
    "'''"
   ]
  },
  {
   "cell_type": "code",
   "execution_count": 6,
   "metadata": {},
   "outputs": [],
   "source": [
    "SHFE_Gold_table = ak.futures_main_sina(symbol=\"AU0\", start_date=start_date, end_date=end_date) # 黄金连续\n",
    "SHFE_Copper_table = ak.futures_main_sina(symbol=\"CU0\", start_date=start_date, end_date=end_date) # 铜连续\n",
    "#SHFE_Silver_table = ak.futures_main_sina(symbol=\"AG0\", start_date=start_date, end_date=end_date) # 白银连续\n",
    "#INE_Oil_table = ak.futures_main_sina(symbol=\"SC0\", start_date=start_date, end_date=end_date) # 上海原油连续\n",
    "\n",
    "SHFE_Gold_table.to_csv(\"data_csv/期货_黄金连续.csv\", index = None, header = True)\n",
    "SHFE_Copper_table.to_csv(\"data_csv/期货_铜连续.csv\", index = None, header = True)\n",
    "#SHFE_Silver_table.to_csv(\"data_csv/期货_白银连续.csv\", index = None, header = True)\n",
    "#INE_Oil_table.to_csv(\"data_csv/期货_上海原油连续.csv\", index = None, header = True)"
   ]
  },
  {
   "cell_type": "code",
   "execution_count": 5,
   "metadata": {},
   "outputs": [],
   "source": [
    "import yfinance as yf\n",
    "\n",
    "def get_data_yfinance(start_date, end_date, symbol): # symbol是指标在Yahoo Finance上的代码\n",
    "    ticker = yf.Ticker(symbol)\n",
    "    ticker_data = ticker.history(start=start_date, end=end_date)\n",
    "    ticker_data.reset_index(inplace=True)\n",
    "    ticker_data['Date'] = ticker_data['Date'].dt.date\n",
    "    return ticker_data\n",
    "\n",
    "SPX_table = get_data_yfinance(start_date, end_date, '^GSPC') # 标准普尔500指数\n",
    "IXIC_table = get_data_yfinance(start_date, end_date, '^IXI') # 纳斯达克综合指数\n",
    "DJI_table = get_data_yfinance(start_date, end_date, '^DJI') # 道琼斯工业平均指数\n",
    "\n",
    "SPX_table.to_csv(\"data_csv/美国_标准普尔500指数.csv\", index = None, header = True)\n",
    "IXIC_table.to_csv(\"data_csv/美国_纳斯达克综合指数.csv\", index = None, header = True)\n",
    "DJI_table.to_csv(\"data_csv/美国_道琼斯工业平均指数.csv\", index = None, header = True)\n",
    "\n",
    "USDX_table = get_data_yfinance(start_date, end_date, \"DX-Y.NYB\")\n",
    "USDX_table.to_csv(\"data_csv/美元指数.csv\", index = None, header = True)\n",
    "\n",
    "USDCNY_table = get_data_yfinance(start_date, end_date, \"USDCNY=X\")\n",
    "USDCNY_table.to_csv(\"data_csv/USDCNY.csv\", index = None, header = True)"
   ]
  },
  {
   "cell_type": "code",
   "execution_count": 6,
   "metadata": {},
   "outputs": [],
   "source": [
    "US_3M_table = get_data_yfinance(start_date, end_date, '^IRX')\n",
    "US_3M_table.to_csv(\"data_csv/美国_国债收益率_3个月.csv\", index = None, header = True)"
   ]
  },
  {
   "cell_type": "code",
   "execution_count": 9,
   "metadata": {},
   "outputs": [],
   "source": [
    "US_Y10_table2 = get_data_yfinance(start_date, end_date, '^TNX')\n",
    "US_Y10_table2.to_csv(\"data_csv/美国_国债收益率_10年(1).csv\", index = None, header = True)"
   ]
  },
  {
   "cell_type": "code",
   "execution_count": 8,
   "metadata": {},
   "outputs": [],
   "source": [
    "COMEX_copper_table = get_data_yfinance(start_date, end_date, 'HG=F') # COMEX铜期货(连续合约)\n",
    "COMEX_copper_table.to_csv(\"data_csv/期货(连续合约)_COMEX铜.csv\", index = None, header = True)"
   ]
  },
  {
   "cell_type": "code",
   "execution_count": 9,
   "metadata": {},
   "outputs": [],
   "source": [
    "COMEX_gold_table = get_data_yfinance(start_date, end_date, 'GC=F') # COMEX黄金期货(连续合约)\n",
    "COMEX_gold_table.to_csv(\"data_csv/期货(连续合约)_COMEX黄金.csv\", index = None, header = True)"
   ]
  },
  {
   "cell_type": "code",
   "execution_count": 10,
   "metadata": {},
   "outputs": [],
   "source": [
    "COMEX_silver_table = get_data_yfinance(start_date, end_date, 'SI=F') # COMEX白银期货(连续合约)\n",
    "COMEX_silver_table.to_csv(\"data_csv/期货(连续合约)_COMEX白银.csv\", index = None, header = True)"
   ]
  },
  {
   "cell_type": "code",
   "execution_count": 11,
   "metadata": {},
   "outputs": [],
   "source": [
    "WTI_crude_continuous_table = get_data_yfinance(start_date, end_date, 'CL=F') # WTI原油期货(连续合约)\n",
    "WTI_crude_continuous_table.to_csv(\"data_csv/期货(连续合约)_NYMEX轻质原油.csv\", index = None, header = True)"
   ]
  },
  {
   "cell_type": "code",
   "execution_count": 12,
   "metadata": {},
   "outputs": [],
   "source": [
    "Brent_crude_continuous_table = get_data_yfinance(start_date, end_date, 'BZ=F') # 布伦特原油期货(连续合约)\n",
    "Brent_crude_continuous_table.to_csv(\"data_csv/期货(连续合约)_MICEX布伦特原油.csv\", index = None, header = True)"
   ]
  },
  {
   "cell_type": "code",
   "execution_count": 23,
   "metadata": {},
   "outputs": [],
   "source": [
    "USDHKD_table = get_data_yfinance(start_date, end_date, \"HKD=X\")\n",
    "USDHKD_table.to_csv(\"data_csv/USDHKD.csv\", header = True)"
   ]
  },
  {
   "cell_type": "code",
   "execution_count": 32,
   "metadata": {},
   "outputs": [
    {
     "data": {
      "text/html": [
       "<div>\n",
       "<style scoped>\n",
       "    .dataframe tbody tr th:only-of-type {\n",
       "        vertical-align: middle;\n",
       "    }\n",
       "\n",
       "    .dataframe tbody tr th {\n",
       "        vertical-align: top;\n",
       "    }\n",
       "\n",
       "    .dataframe thead th {\n",
       "        text-align: right;\n",
       "    }\n",
       "</style>\n",
       "<table border=\"1\" class=\"dataframe\">\n",
       "  <thead>\n",
       "    <tr style=\"text-align: right;\">\n",
       "      <th></th>\n",
       "      <th>DEXCHUS</th>\n",
       "    </tr>\n",
       "    <tr>\n",
       "      <th>DATE</th>\n",
       "      <th></th>\n",
       "    </tr>\n",
       "  </thead>\n",
       "  <tbody>\n",
       "    <tr>\n",
       "      <th>2010-01-01</th>\n",
       "      <td>NaN</td>\n",
       "    </tr>\n",
       "    <tr>\n",
       "      <th>2010-01-04</th>\n",
       "      <td>6.8273</td>\n",
       "    </tr>\n",
       "    <tr>\n",
       "      <th>2010-01-05</th>\n",
       "      <td>6.8258</td>\n",
       "    </tr>\n",
       "    <tr>\n",
       "      <th>2010-01-06</th>\n",
       "      <td>6.8272</td>\n",
       "    </tr>\n",
       "    <tr>\n",
       "      <th>2010-01-07</th>\n",
       "      <td>6.8280</td>\n",
       "    </tr>\n",
       "    <tr>\n",
       "      <th>...</th>\n",
       "      <td>...</td>\n",
       "    </tr>\n",
       "    <tr>\n",
       "      <th>2023-08-14</th>\n",
       "      <td>7.2585</td>\n",
       "    </tr>\n",
       "    <tr>\n",
       "      <th>2023-08-15</th>\n",
       "      <td>7.2817</td>\n",
       "    </tr>\n",
       "    <tr>\n",
       "      <th>2023-08-16</th>\n",
       "      <td>7.2985</td>\n",
       "    </tr>\n",
       "    <tr>\n",
       "      <th>2023-08-17</th>\n",
       "      <td>7.2910</td>\n",
       "    </tr>\n",
       "    <tr>\n",
       "      <th>2023-08-18</th>\n",
       "      <td>7.2800</td>\n",
       "    </tr>\n",
       "  </tbody>\n",
       "</table>\n",
       "<p>3556 rows × 1 columns</p>\n",
       "</div>"
      ],
      "text/plain": [
       "            DEXCHUS\n",
       "DATE               \n",
       "2010-01-01      NaN\n",
       "2010-01-04   6.8273\n",
       "2010-01-05   6.8258\n",
       "2010-01-06   6.8272\n",
       "2010-01-07   6.8280\n",
       "...             ...\n",
       "2023-08-14   7.2585\n",
       "2023-08-15   7.2817\n",
       "2023-08-16   7.2985\n",
       "2023-08-17   7.2910\n",
       "2023-08-18   7.2800\n",
       "\n",
       "[3556 rows x 1 columns]"
      ]
     },
     "execution_count": 32,
     "metadata": {},
     "output_type": "execute_result"
    }
   ],
   "source": [
    "import pandas_datareader as pdr\n",
    "import datetime\n",
    "\n",
    "#start_date = datetime.datetime(2022, 1, 1)\n",
    "#end_date = datetime.datetime(2023, 8, 23)\n",
    "\n",
    "# 获取美元兑人民币汇率数据（CNY）\n",
    "usd_cny = pdr.get_data_fred('DEXCHUS', datetime.datetime.strptime(start_date, \"%Y-%m-%d\"), datetime.datetime.strptime(end_date, \"%Y-%m-%d\"))\n",
    "\n",
    "usd_cny"
   ]
  },
  {
   "cell_type": "code",
   "execution_count": 8,
   "metadata": {},
   "outputs": [],
   "source": [
    "import pandas_datareader as pdr\n",
    "\n",
    "start_date = '2023-07-30'\n",
    "end_date = '2023-08-29'\n",
    "data_source = 'fred'\n",
    "\n",
    "US_3M_table2 = pdr.DataReader('DTB3', data_source, start_date, end_date)\n",
    "US_3M_table2.reset_index(inplace=True)\n",
    "US_3M_table2.to_csv(\"data_csv/美国_国债收益率_3个月(1).csv\", index = None, header = True)"
   ]
  },
  {
   "cell_type": "code",
   "execution_count": 53,
   "metadata": {},
   "outputs": [],
   "source": [
    "import quandl\n",
    "\n",
    "# 设置你的Quandl API密钥\n",
    "quandl.ApiConfig.api_key = 'ubAFHri6Z5tRgwcxQhzh'\n",
    "\n",
    "def get_data_quandl(start_date, end_date, symbol): # symbol是指标在Quandl上的代码\n",
    "    ticker_data = quandl.get(symbol, start_date=start_date, end_date=end_date)\n",
    "    ticker_data.reset_index(inplace=True)\n",
    "    #ticker_data['Date'] = ticker_data['Date'].dt.date\n",
    "    return ticker_data\n",
    "\n",
    "# 获取伦敦金数据\n",
    "LME_gold_table = get_data_quandl(start_date, end_date, \"LBMA/GOLD\")\n",
    "LME_gold_table.to_csv(\"data_csv/伦敦现货黄金.csv\", index = None, header = True)"
   ]
  },
  {
   "cell_type": "code",
   "execution_count": 52,
   "metadata": {},
   "outputs": [],
   "source": [
    "LME_silver_table = get_data_quandl(start_date, end_date, \"LBMA/SILVER\")\n",
    "LME_silver_table.to_csv(\"data_csv/伦敦现货白银.csv\", index = None, header = True)"
   ]
  }
 ],
 "metadata": {
  "kernelspec": {
   "display_name": "base",
   "language": "python",
   "name": "python3"
  },
  "language_info": {
   "codemirror_mode": {
    "name": "ipython",
    "version": 3
   },
   "file_extension": ".py",
   "mimetype": "text/x-python",
   "name": "python",
   "nbconvert_exporter": "python",
   "pygments_lexer": "ipython3",
   "version": "3.11.4"
  },
  "orig_nbformat": 4
 },
 "nbformat": 4,
 "nbformat_minor": 2
}
